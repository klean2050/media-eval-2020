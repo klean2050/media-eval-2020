{
 "cells": [
  {
   "cell_type": "code",
   "execution_count": 1,
   "metadata": {},
   "outputs": [],
   "source": [
    "import numpy as np\n",
    "import pandas as pd\n",
    "from collections import Counter"
   ]
  },
  {
   "cell_type": "markdown",
   "metadata": {},
   "source": [
    "Jamendo training set:"
   ]
  },
  {
   "cell_type": "code",
   "execution_count": 2,
   "metadata": {},
   "outputs": [
    {
     "name": "stdout",
     "output_type": "stream",
     "text": [
      "Average number of tags per song: 1.797668107347472\n"
     ]
    }
   ],
   "source": [
    "train_split_path = '../example_splits/jamendo_moodtheme-train.tsv'\n",
    "\n",
    "train_tags = []\n",
    "file = open(train_split_path, 'r')\n",
    "next(file)\n",
    "num_tags = []\n",
    "for line in file:\n",
    "    tags = line.strip().split('\\t')[2:]\n",
    "    num_tags.append(len(tags))\n",
    "    train_tags.extend(tags)\n",
    "file.close()\n",
    "\n",
    "sorted_train_tags = Counter(train_tags).most_common()\n",
    "sorted_train_tags = [x[0].split('---')[-1] for x in sorted_train_tags]\n",
    "\n",
    "print('Average number of tags per song:', np.mean(num_tags))"
   ]
  },
  {
   "cell_type": "code",
   "execution_count": 3,
   "metadata": {},
   "outputs": [],
   "source": [
    "sorted_counter_values = []\n",
    "\n",
    "counter = Counter(train_tags)\n",
    "    \n",
    "for tag in sorted_train_tags:\n",
    "    tag = 'mood/theme---'+tag\n",
    "    sorted_counter_values.append(counter[tag])"
   ]
  },
  {
   "cell_type": "code",
   "execution_count": 4,
   "metadata": {},
   "outputs": [
    {
     "data": {
      "text/plain": [
       "Text(0.5, 1.0, 'Jamendo Train Tag Distribution')"
      ]
     },
     "execution_count": 4,
     "metadata": {},
     "output_type": "execute_result"
    }
   ],
   "source": [
    "import matplotlib.pyplot as plt\n",
    "plt.xticks(rotation='vertical')\n",
    "plt.rc('xtick',labelsize=5)\n",
    "plt.bar(sorted_train_tags, sorted_counter_values)\n",
    "plt.title('Jamendo Train Tag Distribution')"
   ]
  },
  {
   "cell_type": "code",
   "execution_count": 5,
   "metadata": {},
   "outputs": [
    {
     "name": "stdout",
     "output_type": "stream",
     "text": [
      "Most common tag count: 927\n",
      "Least common tag count: 59\n"
     ]
    }
   ],
   "source": [
    "print('Most common tag count:', sorted_counter_values[0])\n",
    "print('Least common tag count:', sorted_counter_values[-1])"
   ]
  },
  {
   "cell_type": "markdown",
   "metadata": {},
   "source": [
    "Jamendo validation split:"
   ]
  },
  {
   "cell_type": "code",
   "execution_count": 6,
   "metadata": {},
   "outputs": [],
   "source": [
    "val_split_path = '../example_splits/jamendo_moodtheme-validation.tsv'\n",
    "\n",
    "val_tags = []\n",
    "file = open(val_split_path, 'r')\n",
    "next(file)\n",
    "for line in file:\n",
    "    tags = line.strip().split('\\t')[2:]\n",
    "    val_tags.extend(tags)\n",
    "file.close()"
   ]
  },
  {
   "cell_type": "code",
   "execution_count": 7,
   "metadata": {},
   "outputs": [],
   "source": [
    "sorted_counter_values = []\n",
    "\n",
    "counter = Counter(val_tags)\n",
    "    \n",
    "for tag in sorted_train_tags:\n",
    "    tag = 'mood/theme---'+tag\n",
    "    sorted_counter_values.append(counter[tag])"
   ]
  },
  {
   "cell_type": "code",
   "execution_count": 8,
   "metadata": {},
   "outputs": [
    {
     "data": {
      "text/plain": [
       "Text(0.5, 1.0, 'Jamendo Validation Tag Distribution')"
      ]
     },
     "execution_count": 8,
     "metadata": {},
     "output_type": "execute_result"
    },
    {
     "data": {
      "image/png": "[encoded data removed]",
      "text/plain": [
       "<Figure size 432x288 with 1 Axes>"
      ]
     },
     "metadata": {
      "needs_background": "light"
     },
     "output_type": "display_data"
    }
   ],
   "source": [
    "import matplotlib.pyplot as plt\n",
    "plt.xticks(rotation='vertical')\n",
    "plt.rc('xtick',labelsize=5)\n",
    "plt.bar(sorted_train_tags, sorted_counter_values)\n",
    "plt.title('Jamendo Validation Tag Distribution')"
   ]
  },
  {
   "cell_type": "code",
   "execution_count": 9,
   "metadata": {},
   "outputs": [
    {
     "name": "stdout",
     "output_type": "stream",
     "text": [
      "Most common tag count: 392\n",
      "Least common tag count: 23\n"
     ]
    }
   ],
   "source": [
    "print('Most common tag count:', max(sorted_counter_values))\n",
    "print('Least common tag count:', min(sorted_counter_values))"
   ]
  },
  {
   "cell_type": "markdown",
   "metadata": {},
   "source": [
    "Jamendo Test set:"
   ]
  },
  {
   "cell_type": "code",
   "execution_count": 10,
   "metadata": {},
   "outputs": [],
   "source": [
    "test_split_path = '../example_splits/jamendo_moodtheme-test.tsv'\n",
    "\n",
    "test_tags = []\n",
    "file = open(test_split_path, 'r')\n",
    "next(file)\n",
    "for line in file:\n",
    "    tags = line.strip().split('\\t')[2:]\n",
    "    test_tags.extend(tags)\n",
    "file.close()"
   ]
  },
  {
   "cell_type": "code",
   "execution_count": 11,
   "metadata": {},
   "outputs": [],
   "source": [
    "sorted_counter_values = []\n",
    "\n",
    "counter = Counter(test_tags)\n",
    "    \n",
    "for tag in sorted_train_tags:\n",
    "    tag = 'mood/theme---'+tag\n",
    "    sorted_counter_values.append(counter[tag])"
   ]
  },
  {
   "cell_type": "code",
   "execution_count": 12,
   "metadata": {},
   "outputs": [
    {
     "data": {
      "text/plain": [
       "Text(0.5, 1.0, 'Jamendo Test Tag Distribution')"
      ]
     },
     "execution_count": 12,
     "metadata": {},
     "output_type": "execute_result"
    },
    {
     "data": {
      "image/png": "[encoded data removed]",
      "text/plain": [
       "<Figure size 432x288 with 1 Axes>"
      ]
     },
     "metadata": {
      "needs_background": "light"
     },
     "output_type": "display_data"
    }
   ],
   "source": [
    "import matplotlib.pyplot as plt\n",
    "plt.xticks(rotation='vertical')\n",
    "plt.rc('xtick',labelsize=5)\n",
    "plt.bar(sorted_train_tags, sorted_counter_values)\n",
    "plt.title('Jamendo Test Tag Distribution')"
   ]
  },
  {
   "cell_type": "code",
   "execution_count": 13,
   "metadata": {},
   "outputs": [
    {
     "name": "stdout",
     "output_type": "stream",
     "text": [
      "Most common tag count: 569\n",
      "Least common tag count: 25\n"
     ]
    }
   ],
   "source": [
    "print('Most common tag count:', max(sorted_counter_values))\n",
    "print('Least common tag count:', min(sorted_counter_values))"
   ]
  },
  {
   "cell_type": "markdown",
   "metadata": {},
   "source": [
    "Jamendo train split + music4all:"
   ]
  },
  {
   "cell_type": "code",
   "execution_count": 14,
   "metadata": {},
   "outputs": [
    {
     "name": "stdout",
     "output_type": "stream",
     "text": [
      "Most common tag count: 1636\n",
      "Least common tag count: 68\n",
      "Average number of tags per song: 1.5387768171629843\n"
     ]
    },
    {
     "data": {
      "image/png": "[encoded data removed]",
      "text/plain": [
       "<Figure size 432x288 with 1 Axes>"
      ]
     },
     "metadata": {
      "needs_background": "light"
     },
     "output_type": "display_data"
    }
   ],
   "source": [
    "m4a_split_path = '../example_splits/m4a_moodtheme-train.tsv'\n",
    "\n",
    "m4a_tags = []\n",
    "file = open(m4a_split_path, 'r')\n",
    "next(file)\n",
    "for line in file:\n",
    "    tags = line.strip().split('\\t')[2:]\n",
    "    num_tags.append(len(tags))\n",
    "    m4a_tags.extend(tags)\n",
    "file.close()\n",
    "\n",
    "sorted_counter_values = []\n",
    "\n",
    "counter = Counter(m4a_tags)\n",
    "    \n",
    "for tag in sorted_train_tags:\n",
    "    tag = 'mood/theme---'+tag\n",
    "    total_tag_count = counter[tag] + Counter(train_tags)[tag]\n",
    "    sorted_counter_values.append(total_tag_count)\n",
    "    \n",
    "import matplotlib.pyplot as plt\n",
    "plt.xticks(rotation='vertical')\n",
    "plt.rc('xtick',labelsize=5)\n",
    "plt.bar(sorted_train_tags, sorted_counter_values)\n",
    "plt.title('Jamendo+M4A Train Tag Distribution')\n",
    "\n",
    "print('Most common tag count:', max(sorted_counter_values))\n",
    "print('Least common tag count:', min(sorted_counter_values))\n",
    "\n",
    "print('Average number of tags per song:', np.mean(num_tags))"
   ]
  }
 ],
 "metadata": {
  "kernelspec": {
   "display_name": "py35",
   "language": "python",
   "name": "py35"
  },
  "language_info": {
   "codemirror_mode": {
    "name": "ipython",
    "version": 3
   },
   "file_extension": ".py",
   "mimetype": "text/x-python",
   "name": "python",
   "nbconvert_exporter": "python",
   "pygments_lexer": "ipython3",
   "version": "3.5.6"
  }
 },
 "nbformat": 4,
 "nbformat_minor": 4
}
