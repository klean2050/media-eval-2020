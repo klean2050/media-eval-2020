{
 "cells": [
  {
   "cell_type": "code",
   "execution_count": 1,
   "metadata": {},
   "outputs": [],
   "source": [
    "import numpy as np\n",
    "import os, sys, torch\n",
    "sys.path.append(\"src\")\n",
    "from src.model import ShortChunkCNN_Res\n",
    "\n",
    "wavs_path = \"/data/avramidi/harmonix/audio_wav/\"\n",
    "song_file = os.listdir(wavs_path)[1]"
   ]
  },
  {
   "cell_type": "code",
   "execution_count": 3,
   "metadata": {},
   "outputs": [
    {
     "data": {
      "text/plain": [
       "<All keys matched successfully>"
      ]
     },
     "execution_count": 3,
     "metadata": {},
     "output_type": "execute_result"
    }
   ],
   "source": [
    "device = \"cuda:1\" if torch.cuda.is_available() else \"cpu\"\n",
    "input_length = 73600\n",
    "batch_size = 32\n",
    "model = ShortChunkCNN_Res()\n",
    "model.to(device)\n",
    "model.eval()\n",
    "\n",
    "# MSD model is not compatible !\n",
    "model_load_path = \"data/pretrained_models/focal_loss_all_data/\"\n",
    "\n",
    "state = torch.load(os.path.join(model_load_path, \"best_model.pth\"), map_location=device)\n",
    "if \"spec.mel_scale.fb\" in state.keys():\n",
    "    model.spec.mel_scale.fb = state[\"spec.mel_scale.fb\"]\n",
    "model.load_state_dict(state)"
   ]
  },
  {
   "cell_type": "code",
   "execution_count": 7,
   "metadata": {},
   "outputs": [],
   "source": [
    "npy_path = os.path.join(\"/data/avramidi/harmonix/npy_audios\", song_file.replace(\".wav\", \".npy\"))\n",
    "raw = np.load(npy_path, mmap_mode=\"r\")\n",
    "hop = (len(raw) - input_length) // batch_size  # split chunk\n",
    "input = [\n",
    "    torch.Tensor(raw[i * hop : i * hop + input_length]).unsqueeze(0)\n",
    "    for i in range(batch_size)\n",
    "]\n",
    "out = model(torch.vstack(input).to(device))"
   ]
  },
  {
   "cell_type": "code",
   "execution_count": 11,
   "metadata": {},
   "outputs": [
    {
     "data": {
      "text/plain": [
       "tensor([[0.7860, 0.0000, 0.0000,  ..., 0.0000, 0.1943, 0.4205],\n",
       "        [0.0000, 0.0000, 0.0000,  ..., 0.0000, 0.6690, 0.4961],\n",
       "        [0.9851, 0.0155, 0.0000,  ..., 0.0000, 0.0932, 0.1117],\n",
       "        ...,\n",
       "        [0.0000, 0.0000, 0.2108,  ..., 0.0000, 0.5265, 0.0000],\n",
       "        [0.0000, 0.0000, 0.5789,  ..., 0.0000, 1.4831, 0.0000],\n",
       "        [0.2108, 0.0000, 0.0420,  ..., 0.0000, 1.0663, 0.0000]],\n",
       "       device='cuda:1', grad_fn=<CloneBackward0>)"
      ]
     },
     "execution_count": 11,
     "metadata": {},
     "output_type": "execute_result"
    }
   ],
   "source": [
    "out[1]"
   ]
  }
 ],
 "metadata": {
  "interpreter": {
   "hash": "b3ead3404d1b25b8774e41d010b828f1f2573fd384389b7f1d1e8e4c965560bd"
  },
  "kernelspec": {
   "display_name": "Python 3.9.7 ('base': conda)",
   "language": "python",
   "name": "python3"
  },
  "language_info": {
   "codemirror_mode": {
    "name": "ipython",
    "version": 3
   },
   "file_extension": ".py",
   "mimetype": "text/x-python",
   "name": "python",
   "nbconvert_exporter": "python",
   "pygments_lexer": "ipython3",
   "version": "3.9.5"
  },
  "orig_nbformat": 4
 },
 "nbformat": 4,
 "nbformat_minor": 2
}
