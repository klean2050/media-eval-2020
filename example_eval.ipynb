{
 "cells": [
  {
   "cell_type": "code",
   "execution_count": 1,
   "metadata": {},
   "outputs": [],
   "source": [
    "import numpy as np\n",
    "import os, sys, torch\n",
    "sys.path.append(\"src\")\n",
    "from src.model import ShortChunkCNN_Res\n",
    "\n",
    "wavs_path = \"/data/avramidi/harmonix/audio_wav/\"\n",
    "wavs_path = \"/home/kavra/Datasets/DEAP/stimuli_wav/\"\n",
    "song_file = os.listdir(wavs_path)[1]"
   ]
  },
  {
   "cell_type": "code",
   "execution_count": null,
   "metadata": {},
   "outputs": [],
   "source": [
    "device = \"cuda:1\" if torch.cuda.is_available() else \"cpu\"\n",
    "input_length = 73600\n",
    "batch_size = 32\n",
    "model = ShortChunkCNN_Res()\n",
    "model.to(device)\n",
    "\n",
    "# MSD model is not compatible !\n",
    "model_load_path = \"data/pretrained_models/focal_loss_all_data/\"\n",
    "\n",
    "state = torch.load(os.path.join(model_load_path, \"best_model.pth\"), map_location=device)\n",
    "if \"spec.mel_scale.fb\" in state.keys():\n",
    "    model.spec.mel_scale.fb = state[\"spec.mel_scale.fb\"]\n",
    "model.load_state_dict(state)"
   ]
  },
  {
   "cell_type": "code",
   "execution_count": 9,
   "metadata": {},
   "outputs": [],
   "source": [
    "model.eval()\n",
    "eg_input = torch.randn(batch_size, 73600)\n",
    "# outputs 56 classes and 512D embeds\n",
    "emb = model(eg_input.to(device))"
   ]
  },
  {
   "cell_type": "code",
   "execution_count": null,
   "metadata": {},
   "outputs": [],
   "source": [
    "npy_path = os.path.join(\"../data/npy_audios\", song_file.replace(\".wav\", \".npy\"))\n",
    "raw = np.load(npy_path, mmap_mode=\"r\")\n",
    "hop = (len(raw) - input_length) // batch_size  # split chunk\n",
    "input = [\n",
    "    torch.Tensor(raw[i * hop : i * hop + input_length]).unsqueeze(0)\n",
    "    for i in range(batch_size)\n",
    "]\n",
    "out = model(input.to(device))"
   ]
  }
 ],
 "metadata": {
  "interpreter": {
   "hash": "b3ead3404d1b25b8774e41d010b828f1f2573fd384389b7f1d1e8e4c965560bd"
  },
  "kernelspec": {
   "display_name": "Python 3.9.7 ('base': conda)",
   "language": "python",
   "name": "python3"
  },
  "language_info": {
   "codemirror_mode": {
    "name": "ipython",
    "version": 3
   },
   "file_extension": ".py",
   "mimetype": "text/x-python",
   "name": "python",
   "nbconvert_exporter": "python",
   "pygments_lexer": "ipython3",
   "version": "3.9.7"
  },
  "orig_nbformat": 4
 },
 "nbformat": 4,
 "nbformat_minor": 2
}
