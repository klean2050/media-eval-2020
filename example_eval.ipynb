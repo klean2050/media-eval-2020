{
 "cells": [
  {
   "cell_type": "code",
   "execution_count": 6,
   "metadata": {},
   "outputs": [],
   "source": [
    "import os, sys, torch\n",
    "sys.path.append(\"src\")\n",
    "from src.model import ShortChunkCNN_Res\n"
   ]
  },
  {
   "cell_type": "code",
   "execution_count": 20,
   "metadata": {},
   "outputs": [
    {
     "data": {
      "text/plain": [
       "'/home/kavra/Datasets/DEAP/stimuli_wav/31. Mortemia - The One I Once Was.wav'"
      ]
     },
     "execution_count": 20,
     "metadata": {},
     "output_type": "execute_result"
    }
   ],
   "source": [
    "wavs_path = \"/data/avramidi/harmonix/audio_wav/\"\n",
    "wavs_path = \"/home/kavra/Datasets/DEAP/stimuli_wav/\"\n",
    "song_path = wavs_path + os.listdir(wavs_path)[1]\n",
    "song_path"
   ]
  },
  {
   "cell_type": "code",
   "execution_count": null,
   "metadata": {},
   "outputs": [],
   "source": [
    "from pydub import AudioSegment\n",
    "sound = AudioSegment.from_wav(song_path)\n",
    "sound = sound.set_channels(1)\n",
    "#sound.export(song_path, format=\"wav\")"
   ]
  },
  {
   "cell_type": "code",
   "execution_count": 10,
   "metadata": {},
   "outputs": [
    {
     "data": {
      "text/plain": [
       "<All keys matched successfully>"
      ]
     },
     "execution_count": 10,
     "metadata": {},
     "output_type": "execute_result"
    }
   ],
   "source": [
    "device = \"cuda:1\" if torch.cuda.is_available() else \"cpu\"\n",
    "input_length = 73600\n",
    "model = ShortChunkCNN_Res()\n",
    "model.to(device)\n",
    "\n",
    "# MSD model is not compatible !\n",
    "model_load_path = \"data/pretrained_models/focal_loss_all_data/\"\n",
    "\n",
    "state = torch.load(os.path.join(model_load_path, \"best_model.pth\"), map_location=device)\n",
    "if \"spec.mel_scale.fb\" in state.keys():\n",
    "    model.spec.mel_scale.fb = state[\"spec.mel_scale.fb\"]\n",
    "model.load_state_dict(state)"
   ]
  },
  {
   "cell_type": "code",
   "execution_count": null,
   "metadata": {},
   "outputs": [],
   "source": []
  }
 ],
 "metadata": {
  "interpreter": {
   "hash": "b3ead3404d1b25b8774e41d010b828f1f2573fd384389b7f1d1e8e4c965560bd"
  },
  "kernelspec": {
   "display_name": "Python 3.9.7 ('base': conda)",
   "language": "python",
   "name": "python3"
  },
  "language_info": {
   "codemirror_mode": {
    "name": "ipython",
    "version": 3
   },
   "file_extension": ".py",
   "mimetype": "text/x-python",
   "name": "python",
   "nbconvert_exporter": "python",
   "pygments_lexer": "ipython3",
   "version": "3.9.7"
  },
  "orig_nbformat": 4
 },
 "nbformat": 4,
 "nbformat_minor": 2
}
